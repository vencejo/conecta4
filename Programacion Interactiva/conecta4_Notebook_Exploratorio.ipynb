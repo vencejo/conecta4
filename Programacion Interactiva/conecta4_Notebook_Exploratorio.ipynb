{
 "cells": [
  {
   "cell_type": "markdown",
   "metadata": {},
   "source": [
    "## Representacion de los datos\n",
    "La representacion interna del tablero sera la de una lista compuesta por seis listas de numeros, estos numeros\n",
    "seran 0, para representar el espacio vacio, 1 para representar ficha roja y -1 para representar ficha amarilla.\n",
    "Las coordenadas del tablero seran del tipo (fila,columna) y tendran su origen en la esquina superior izquierda , creciendo las columnas hacia la derecha y las filas hacia abajo "
   ]
  },
  {
   "cell_type": "code",
   "execution_count": 22,
   "metadata": {
    "collapsed": true
   },
   "outputs": [],
   "source": [
    "FILMAX = 6\n",
    "COLMAX = 7"
   ]
  },
  {
   "cell_type": "code",
   "execution_count": 23,
   "metadata": {
    "collapsed": true
   },
   "outputs": [],
   "source": [
    "def obtenNuevoTablero():\n",
    "    \"\"\" Crea un nuevo tablero \"\"\"\n",
    "    tablero = []\n",
    "    for i in range(FILMAX):\n",
    "        tablero.append([0] * COLMAX)\n",
    "\n",
    "    return tablero"
   ]
  },
  {
   "cell_type": "code",
   "execution_count": 24,
   "metadata": {
    "collapsed": false
   },
   "outputs": [
    {
     "name": "stdout",
     "output_type": "stream",
     "text": [
      "[[0, 0, 0, 0, 0, 0, 0], [0, 0, 0, 0, 0, 0, 0], [0, 0, 0, 0, 0, 0, 0], [0, 0, 0, 0, 0, 0, 0], [0, 0, 0, 0, 0, 0, 0], [0, 0, 0, 0, 0, 0, 0]]\n"
     ]
    }
   ],
   "source": [
    "print( obtenNuevoTablero())"
   ]
  },
  {
   "cell_type": "code",
   "execution_count": 25,
   "metadata": {
    "collapsed": true
   },
   "outputs": [],
   "source": [
    "def reseteaTablero(tablero):\n",
    "    \"\"\" Limpia el tablero \"\"\"\n",
    "    for col in range(COLMAX):\n",
    "        for fil in range(FILMAX):\n",
    "            tablero[fil][col] = 0"
   ]
  },
  {
   "cell_type": "code",
   "execution_count": 26,
   "metadata": {
    "collapsed": true
   },
   "outputs": [],
   "source": [
    "#  !pip install ipythonblocks\n",
    "#  Vease http://ipythonblocks.org/ para mas informacion\n",
    "\n",
    "import time\n",
    "from IPython.display import clear_output\n",
    "from ipythonblocks import BlockGrid, colors\n",
    "\n",
    "def dibujaTablero(tablero):\n",
    "    \"\"\" Dibuja el tablero que se le pasa en formato grafico\"\"\"\n",
    "    grid = BlockGrid(width=COLMAX, height=FILMAX, block_size=25,lines_on = True)\n",
    "    \n",
    "    for fil in range(grid.height):\n",
    "        for col in range(grid.width):\n",
    "            if tablero[fil][col] == 1:\n",
    "                grid[fil,col] = colors['Red']\n",
    "            elif tablero[fil][col] == -1:\n",
    "                grid[fil,col] = colors['Green']\n",
    "            else:\n",
    "                grid[fil,col] = colors['Black']\n",
    "                \n",
    "    grid.show()\n",
    "    \n",
    "\n",
    "\n"
   ]
  },
  {
   "cell_type": "code",
   "execution_count": 27,
   "metadata": {
    "collapsed": false
   },
   "outputs": [
    {
     "data": {
      "text/html": [
       "<style type=\"text/css\">table.blockgrid {border: none;} .blockgrid tr {border: none;} .blockgrid td {padding: 0px;} #blocks817b2a3e-e97f-436f-a07d-ff8722ce7998 td {border: 1px solid white;}</style><table id=\"blocks817b2a3e-e97f-436f-a07d-ff8722ce7998\" class=\"blockgrid\"><tbody><tr><td title=\"Index: [0, 0]&#10;Color: (0, 0, 0)\" style=\"width: 25px; height: 25px;background-color: rgb(0, 0, 0);\"></td><td title=\"Index: [0, 1]&#10;Color: (0, 0, 0)\" style=\"width: 25px; height: 25px;background-color: rgb(0, 0, 0);\"></td><td title=\"Index: [0, 2]&#10;Color: (0, 0, 0)\" style=\"width: 25px; height: 25px;background-color: rgb(0, 0, 0);\"></td><td title=\"Index: [0, 3]&#10;Color: (0, 0, 0)\" style=\"width: 25px; height: 25px;background-color: rgb(0, 0, 0);\"></td><td title=\"Index: [0, 4]&#10;Color: (0, 0, 0)\" style=\"width: 25px; height: 25px;background-color: rgb(0, 0, 0);\"></td><td title=\"Index: [0, 5]&#10;Color: (0, 0, 0)\" style=\"width: 25px; height: 25px;background-color: rgb(0, 0, 0);\"></td><td title=\"Index: [0, 6]&#10;Color: (0, 0, 0)\" style=\"width: 25px; height: 25px;background-color: rgb(0, 0, 0);\"></td></tr><tr><td title=\"Index: [1, 0]&#10;Color: (0, 0, 0)\" style=\"width: 25px; height: 25px;background-color: rgb(0, 0, 0);\"></td><td title=\"Index: [1, 1]&#10;Color: (0, 0, 0)\" style=\"width: 25px; height: 25px;background-color: rgb(0, 0, 0);\"></td><td title=\"Index: [1, 2]&#10;Color: (0, 0, 0)\" style=\"width: 25px; height: 25px;background-color: rgb(0, 0, 0);\"></td><td title=\"Index: [1, 3]&#10;Color: (0, 0, 0)\" style=\"width: 25px; height: 25px;background-color: rgb(0, 0, 0);\"></td><td title=\"Index: [1, 4]&#10;Color: (0, 0, 0)\" style=\"width: 25px; height: 25px;background-color: rgb(0, 0, 0);\"></td><td title=\"Index: [1, 5]&#10;Color: (0, 0, 0)\" style=\"width: 25px; height: 25px;background-color: rgb(0, 0, 0);\"></td><td title=\"Index: [1, 6]&#10;Color: (0, 0, 0)\" style=\"width: 25px; height: 25px;background-color: rgb(0, 0, 0);\"></td></tr><tr><td title=\"Index: [2, 0]&#10;Color: (0, 0, 0)\" style=\"width: 25px; height: 25px;background-color: rgb(0, 0, 0);\"></td><td title=\"Index: [2, 1]&#10;Color: (0, 0, 0)\" style=\"width: 25px; height: 25px;background-color: rgb(0, 0, 0);\"></td><td title=\"Index: [2, 2]&#10;Color: (0, 0, 0)\" style=\"width: 25px; height: 25px;background-color: rgb(0, 0, 0);\"></td><td title=\"Index: [2, 3]&#10;Color: (0, 0, 0)\" style=\"width: 25px; height: 25px;background-color: rgb(0, 0, 0);\"></td><td title=\"Index: [2, 4]&#10;Color: (0, 0, 0)\" style=\"width: 25px; height: 25px;background-color: rgb(0, 0, 0);\"></td><td title=\"Index: [2, 5]&#10;Color: (0, 0, 0)\" style=\"width: 25px; height: 25px;background-color: rgb(0, 0, 0);\"></td><td title=\"Index: [2, 6]&#10;Color: (0, 0, 0)\" style=\"width: 25px; height: 25px;background-color: rgb(0, 0, 0);\"></td></tr><tr><td title=\"Index: [3, 0]&#10;Color: (0, 0, 0)\" style=\"width: 25px; height: 25px;background-color: rgb(0, 0, 0);\"></td><td title=\"Index: [3, 1]&#10;Color: (0, 0, 0)\" style=\"width: 25px; height: 25px;background-color: rgb(0, 0, 0);\"></td><td title=\"Index: [3, 2]&#10;Color: (0, 0, 0)\" style=\"width: 25px; height: 25px;background-color: rgb(0, 0, 0);\"></td><td title=\"Index: [3, 3]&#10;Color: (0, 0, 0)\" style=\"width: 25px; height: 25px;background-color: rgb(0, 0, 0);\"></td><td title=\"Index: [3, 4]&#10;Color: (0, 0, 0)\" style=\"width: 25px; height: 25px;background-color: rgb(0, 0, 0);\"></td><td title=\"Index: [3, 5]&#10;Color: (0, 0, 0)\" style=\"width: 25px; height: 25px;background-color: rgb(0, 0, 0);\"></td><td title=\"Index: [3, 6]&#10;Color: (0, 0, 0)\" style=\"width: 25px; height: 25px;background-color: rgb(0, 0, 0);\"></td></tr><tr><td title=\"Index: [4, 0]&#10;Color: (0, 0, 0)\" style=\"width: 25px; height: 25px;background-color: rgb(0, 0, 0);\"></td><td title=\"Index: [4, 1]&#10;Color: (0, 0, 0)\" style=\"width: 25px; height: 25px;background-color: rgb(0, 0, 0);\"></td><td title=\"Index: [4, 2]&#10;Color: (0, 0, 0)\" style=\"width: 25px; height: 25px;background-color: rgb(0, 0, 0);\"></td><td title=\"Index: [4, 3]&#10;Color: (0, 0, 0)\" style=\"width: 25px; height: 25px;background-color: rgb(0, 0, 0);\"></td><td title=\"Index: [4, 4]&#10;Color: (0, 0, 0)\" style=\"width: 25px; height: 25px;background-color: rgb(0, 0, 0);\"></td><td title=\"Index: [4, 5]&#10;Color: (0, 0, 0)\" style=\"width: 25px; height: 25px;background-color: rgb(0, 0, 0);\"></td><td title=\"Index: [4, 6]&#10;Color: (0, 0, 0)\" style=\"width: 25px; height: 25px;background-color: rgb(0, 0, 0);\"></td></tr><tr><td title=\"Index: [5, 0]&#10;Color: (0, 0, 0)\" style=\"width: 25px; height: 25px;background-color: rgb(0, 0, 0);\"></td><td title=\"Index: [5, 1]&#10;Color: (0, 0, 0)\" style=\"width: 25px; height: 25px;background-color: rgb(0, 0, 0);\"></td><td title=\"Index: [5, 2]&#10;Color: (0, 0, 0)\" style=\"width: 25px; height: 25px;background-color: rgb(0, 0, 0);\"></td><td title=\"Index: [5, 3]&#10;Color: (0, 0, 0)\" style=\"width: 25px; height: 25px;background-color: rgb(0, 0, 0);\"></td><td title=\"Index: [5, 4]&#10;Color: (0, 0, 0)\" style=\"width: 25px; height: 25px;background-color: rgb(0, 0, 0);\"></td><td title=\"Index: [5, 5]&#10;Color: (0, 0, 0)\" style=\"width: 25px; height: 25px;background-color: rgb(0, 0, 0);\"></td><td title=\"Index: [5, 6]&#10;Color: (0, 128, 0)\" style=\"width: 25px; height: 25px;background-color: rgb(0, 128, 0);\"></td></tr></tbody></table>"
      ],
      "text/plain": [
       "<IPython.core.display.HTML object>"
      ]
     },
     "metadata": {},
     "output_type": "display_data"
    }
   ],
   "source": [
    "tablero = obtenNuevoTablero()\n",
    "tablero[5][6] = -1\n",
    "dibujaTablero(tablero)"
   ]
  },
  {
   "cell_type": "code",
   "execution_count": 41,
   "metadata": {
    "collapsed": false
   },
   "outputs": [],
   "source": [
    "def estaEnTablero(fil, col):\n",
    "    \"\"\" Devuelve verdadero si fil,col estan en el tablero \"\"\"\n",
    "    return fil >= 0 and fil < FILMAX and col >= 0 and col < COLMAX"
   ]
  },
  {
   "cell_type": "code",
   "execution_count": 29,
   "metadata": {
    "collapsed": false
   },
   "outputs": [],
   "source": [
    "def esUnMovimientoValido(tablero, colJugada):\n",
    "    \"\"\" Devuelve falso si el movimiento a la coord colJugada no es posible,\n",
    "         y en caso de ser posible devuelve las coordenadas [fil,col] \n",
    "         de donde queda la ficha tras el movimiento\"\"\"\n",
    "    \n",
    "    if not estaEnTablero(0, colJugada):\n",
    "        return False\n",
    "    \n",
    "    for fil in range(FILMAX-1, -1, -1):\n",
    "        if (fil == FILMAX-1 and tablero[fil][colJugada] == 0) or \\\n",
    "            (tablero[fil][colJugada] == 0 and  tablero[fil+1][colJugada] != 0) :         \n",
    "            return [ fil, colJugada]\n",
    "      \n",
    "    return False"
   ]
  },
  {
   "cell_type": "code",
   "execution_count": 30,
   "metadata": {
    "collapsed": false
   },
   "outputs": [
    {
     "data": {
      "text/plain": [
       "[5, 1]"
      ]
     },
     "execution_count": 30,
     "metadata": {},
     "output_type": "execute_result"
    }
   ],
   "source": [
    "esUnMovimientoValido(tablero, 1)"
   ]
  },
  {
   "cell_type": "code",
   "execution_count": 31,
   "metadata": {
    "collapsed": false
   },
   "outputs": [
    {
     "data": {
      "text/html": [
       "<style type=\"text/css\">table.blockgrid {border: none;} .blockgrid tr {border: none;} .blockgrid td {padding: 0px;} #blocks0e8387fa-2d8b-46a9-b432-6525bfec326e td {border: 1px solid white;}</style><table id=\"blocks0e8387fa-2d8b-46a9-b432-6525bfec326e\" class=\"blockgrid\"><tbody><tr><td title=\"Index: [0, 0]&#10;Color: (255, 0, 0)\" style=\"width: 25px; height: 25px;background-color: rgb(255, 0, 0);\"></td><td title=\"Index: [0, 1]&#10;Color: (0, 0, 0)\" style=\"width: 25px; height: 25px;background-color: rgb(0, 0, 0);\"></td><td title=\"Index: [0, 2]&#10;Color: (0, 0, 0)\" style=\"width: 25px; height: 25px;background-color: rgb(0, 0, 0);\"></td><td title=\"Index: [0, 3]&#10;Color: (0, 0, 0)\" style=\"width: 25px; height: 25px;background-color: rgb(0, 0, 0);\"></td><td title=\"Index: [0, 4]&#10;Color: (0, 0, 0)\" style=\"width: 25px; height: 25px;background-color: rgb(0, 0, 0);\"></td><td title=\"Index: [0, 5]&#10;Color: (0, 0, 0)\" style=\"width: 25px; height: 25px;background-color: rgb(0, 0, 0);\"></td><td title=\"Index: [0, 6]&#10;Color: (0, 0, 0)\" style=\"width: 25px; height: 25px;background-color: rgb(0, 0, 0);\"></td></tr><tr><td title=\"Index: [1, 0]&#10;Color: (255, 0, 0)\" style=\"width: 25px; height: 25px;background-color: rgb(255, 0, 0);\"></td><td title=\"Index: [1, 1]&#10;Color: (0, 0, 0)\" style=\"width: 25px; height: 25px;background-color: rgb(0, 0, 0);\"></td><td title=\"Index: [1, 2]&#10;Color: (0, 0, 0)\" style=\"width: 25px; height: 25px;background-color: rgb(0, 0, 0);\"></td><td title=\"Index: [1, 3]&#10;Color: (0, 0, 0)\" style=\"width: 25px; height: 25px;background-color: rgb(0, 0, 0);\"></td><td title=\"Index: [1, 4]&#10;Color: (0, 0, 0)\" style=\"width: 25px; height: 25px;background-color: rgb(0, 0, 0);\"></td><td title=\"Index: [1, 5]&#10;Color: (0, 0, 0)\" style=\"width: 25px; height: 25px;background-color: rgb(0, 0, 0);\"></td><td title=\"Index: [1, 6]&#10;Color: (0, 0, 0)\" style=\"width: 25px; height: 25px;background-color: rgb(0, 0, 0);\"></td></tr><tr><td title=\"Index: [2, 0]&#10;Color: (0, 128, 0)\" style=\"width: 25px; height: 25px;background-color: rgb(0, 128, 0);\"></td><td title=\"Index: [2, 1]&#10;Color: (0, 0, 0)\" style=\"width: 25px; height: 25px;background-color: rgb(0, 0, 0);\"></td><td title=\"Index: [2, 2]&#10;Color: (0, 0, 0)\" style=\"width: 25px; height: 25px;background-color: rgb(0, 0, 0);\"></td><td title=\"Index: [2, 3]&#10;Color: (0, 0, 0)\" style=\"width: 25px; height: 25px;background-color: rgb(0, 0, 0);\"></td><td title=\"Index: [2, 4]&#10;Color: (0, 0, 0)\" style=\"width: 25px; height: 25px;background-color: rgb(0, 0, 0);\"></td><td title=\"Index: [2, 5]&#10;Color: (0, 0, 0)\" style=\"width: 25px; height: 25px;background-color: rgb(0, 0, 0);\"></td><td title=\"Index: [2, 6]&#10;Color: (0, 0, 0)\" style=\"width: 25px; height: 25px;background-color: rgb(0, 0, 0);\"></td></tr><tr><td title=\"Index: [3, 0]&#10;Color: (0, 128, 0)\" style=\"width: 25px; height: 25px;background-color: rgb(0, 128, 0);\"></td><td title=\"Index: [3, 1]&#10;Color: (0, 0, 0)\" style=\"width: 25px; height: 25px;background-color: rgb(0, 0, 0);\"></td><td title=\"Index: [3, 2]&#10;Color: (0, 0, 0)\" style=\"width: 25px; height: 25px;background-color: rgb(0, 0, 0);\"></td><td title=\"Index: [3, 3]&#10;Color: (0, 0, 0)\" style=\"width: 25px; height: 25px;background-color: rgb(0, 0, 0);\"></td><td title=\"Index: [3, 4]&#10;Color: (0, 0, 0)\" style=\"width: 25px; height: 25px;background-color: rgb(0, 0, 0);\"></td><td title=\"Index: [3, 5]&#10;Color: (0, 0, 0)\" style=\"width: 25px; height: 25px;background-color: rgb(0, 0, 0);\"></td><td title=\"Index: [3, 6]&#10;Color: (0, 0, 0)\" style=\"width: 25px; height: 25px;background-color: rgb(0, 0, 0);\"></td></tr><tr><td title=\"Index: [4, 0]&#10;Color: (255, 0, 0)\" style=\"width: 25px; height: 25px;background-color: rgb(255, 0, 0);\"></td><td title=\"Index: [4, 1]&#10;Color: (0, 0, 0)\" style=\"width: 25px; height: 25px;background-color: rgb(0, 0, 0);\"></td><td title=\"Index: [4, 2]&#10;Color: (0, 0, 0)\" style=\"width: 25px; height: 25px;background-color: rgb(0, 0, 0);\"></td><td title=\"Index: [4, 3]&#10;Color: (0, 0, 0)\" style=\"width: 25px; height: 25px;background-color: rgb(0, 0, 0);\"></td><td title=\"Index: [4, 4]&#10;Color: (0, 0, 0)\" style=\"width: 25px; height: 25px;background-color: rgb(0, 0, 0);\"></td><td title=\"Index: [4, 5]&#10;Color: (0, 0, 0)\" style=\"width: 25px; height: 25px;background-color: rgb(0, 0, 0);\"></td><td title=\"Index: [4, 6]&#10;Color: (0, 0, 0)\" style=\"width: 25px; height: 25px;background-color: rgb(0, 0, 0);\"></td></tr><tr><td title=\"Index: [5, 0]&#10;Color: (255, 0, 0)\" style=\"width: 25px; height: 25px;background-color: rgb(255, 0, 0);\"></td><td title=\"Index: [5, 1]&#10;Color: (0, 0, 0)\" style=\"width: 25px; height: 25px;background-color: rgb(0, 0, 0);\"></td><td title=\"Index: [5, 2]&#10;Color: (0, 0, 0)\" style=\"width: 25px; height: 25px;background-color: rgb(0, 0, 0);\"></td><td title=\"Index: [5, 3]&#10;Color: (0, 0, 0)\" style=\"width: 25px; height: 25px;background-color: rgb(0, 0, 0);\"></td><td title=\"Index: [5, 4]&#10;Color: (0, 0, 0)\" style=\"width: 25px; height: 25px;background-color: rgb(0, 0, 0);\"></td><td title=\"Index: [5, 5]&#10;Color: (0, 0, 0)\" style=\"width: 25px; height: 25px;background-color: rgb(0, 0, 0);\"></td><td title=\"Index: [5, 6]&#10;Color: (0, 128, 0)\" style=\"width: 25px; height: 25px;background-color: rgb(0, 128, 0);\"></td></tr></tbody></table>"
      ],
      "text/plain": [
       "<IPython.core.display.HTML object>"
      ]
     },
     "metadata": {},
     "output_type": "display_data"
    },
    {
     "name": "stdout",
     "output_type": "stream",
     "text": [
      "False\n",
      "[5, 1]\n",
      "[5, 1]\n"
     ]
    }
   ],
   "source": [
    "# Testeo el desbordamiento de una columna\n",
    "tablero[5][0] = 1\n",
    "tablero[4][0] = 1\n",
    "tablero[3][0] = -1\n",
    "tablero[2][0] = -1\n",
    "tablero[1][0] = 1\n",
    "tablero[0][0] = 1\n",
    "dibujaTablero(tablero)\n",
    "print(esUnMovimientoValido(tablero,  0))\n",
    "print(esUnMovimientoValido(tablero,  1))\n",
    "print(esUnMovimientoValido(tablero,  1))"
   ]
  },
  {
   "cell_type": "code",
   "execution_count": 32,
   "metadata": {
    "collapsed": true
   },
   "outputs": [],
   "source": [
    "def daLosMovimientosValidos(tablero):\n",
    "    \"\"\" Devuelve una lista  [fil,col] con los movimientos validos del tablero\"\"\"\n",
    "    movimientosValidos = []\n",
    "\n",
    "    for col in range(COLMAX):\n",
    "        movimiento = esUnMovimientoValido(tablero, col)\n",
    "        if movimiento:\n",
    "            movimientosValidos.append(movimiento)\n",
    "    return movimientosValidos\n"
   ]
  },
  {
   "cell_type": "code",
   "execution_count": 33,
   "metadata": {
    "collapsed": false
   },
   "outputs": [
    {
     "data": {
      "text/plain": [
       "[[5, 1], [5, 2], [5, 3], [5, 4], [5, 5], [4, 6]]"
      ]
     },
     "execution_count": 33,
     "metadata": {},
     "output_type": "execute_result"
    }
   ],
   "source": [
    "daLosMovimientosValidos(tablero)"
   ]
  },
  {
   "cell_type": "code",
   "execution_count": 34,
   "metadata": {
    "collapsed": true
   },
   "outputs": [],
   "source": [
    "def obtenCopiaTablero(tablero):\n",
    "    \"\"\" Devuelve una copia del tablero \"\"\"\n",
    "    copiaTablero = obtenNuevoTablero()\n",
    "\n",
    "    for fil in range(FILMAX):\n",
    "        for col in range(COLMAX):\n",
    "            copiaTablero[fil][col] = tablero[fil][col]\n",
    "\n",
    "    return copiaTablero\n"
   ]
  },
  {
   "cell_type": "code",
   "execution_count": 35,
   "metadata": {
    "collapsed": true
   },
   "outputs": [],
   "source": [
    "def hazMovimiento(tablero,ficha, colJugada):\n",
    "    \"\"\"  Pone la ficha en la columna, y actualiza el tablero. \n",
    "    Si el movimiento no es posible devuelve falso\"\"\"\n",
    "    \n",
    "    if ficha not in (-1,1):\n",
    "        raise TypeError(\"El valor de la ficha ha de ser -1 o 1\")\n",
    "    \n",
    "    movimiento = esUnMovimientoValido(tablero, colJugada)\n",
    "\n",
    "    if movimiento == False:\n",
    "        return False\n",
    "\n",
    "    tablero[movimiento[0]][movimiento[1]] = ficha\n",
    "  \n",
    "    return True"
   ]
  },
  {
   "cell_type": "code",
   "execution_count": 36,
   "metadata": {
    "collapsed": false
   },
   "outputs": [
    {
     "data": {
      "text/html": [
       "<style type=\"text/css\">table.blockgrid {border: none;} .blockgrid tr {border: none;} .blockgrid td {padding: 0px;} #blocks0f861ae4-4242-4e8a-a60e-738e7bff2923 td {border: 1px solid white;}</style><table id=\"blocks0f861ae4-4242-4e8a-a60e-738e7bff2923\" class=\"blockgrid\"><tbody><tr><td title=\"Index: [0, 0]&#10;Color: (255, 0, 0)\" style=\"width: 25px; height: 25px;background-color: rgb(255, 0, 0);\"></td><td title=\"Index: [0, 1]&#10;Color: (0, 0, 0)\" style=\"width: 25px; height: 25px;background-color: rgb(0, 0, 0);\"></td><td title=\"Index: [0, 2]&#10;Color: (0, 0, 0)\" style=\"width: 25px; height: 25px;background-color: rgb(0, 0, 0);\"></td><td title=\"Index: [0, 3]&#10;Color: (0, 0, 0)\" style=\"width: 25px; height: 25px;background-color: rgb(0, 0, 0);\"></td><td title=\"Index: [0, 4]&#10;Color: (0, 0, 0)\" style=\"width: 25px; height: 25px;background-color: rgb(0, 0, 0);\"></td><td title=\"Index: [0, 5]&#10;Color: (0, 0, 0)\" style=\"width: 25px; height: 25px;background-color: rgb(0, 0, 0);\"></td><td title=\"Index: [0, 6]&#10;Color: (0, 0, 0)\" style=\"width: 25px; height: 25px;background-color: rgb(0, 0, 0);\"></td></tr><tr><td title=\"Index: [1, 0]&#10;Color: (255, 0, 0)\" style=\"width: 25px; height: 25px;background-color: rgb(255, 0, 0);\"></td><td title=\"Index: [1, 1]&#10;Color: (0, 0, 0)\" style=\"width: 25px; height: 25px;background-color: rgb(0, 0, 0);\"></td><td title=\"Index: [1, 2]&#10;Color: (0, 0, 0)\" style=\"width: 25px; height: 25px;background-color: rgb(0, 0, 0);\"></td><td title=\"Index: [1, 3]&#10;Color: (0, 0, 0)\" style=\"width: 25px; height: 25px;background-color: rgb(0, 0, 0);\"></td><td title=\"Index: [1, 4]&#10;Color: (0, 0, 0)\" style=\"width: 25px; height: 25px;background-color: rgb(0, 0, 0);\"></td><td title=\"Index: [1, 5]&#10;Color: (0, 0, 0)\" style=\"width: 25px; height: 25px;background-color: rgb(0, 0, 0);\"></td><td title=\"Index: [1, 6]&#10;Color: (0, 0, 0)\" style=\"width: 25px; height: 25px;background-color: rgb(0, 0, 0);\"></td></tr><tr><td title=\"Index: [2, 0]&#10;Color: (0, 128, 0)\" style=\"width: 25px; height: 25px;background-color: rgb(0, 128, 0);\"></td><td title=\"Index: [2, 1]&#10;Color: (0, 0, 0)\" style=\"width: 25px; height: 25px;background-color: rgb(0, 0, 0);\"></td><td title=\"Index: [2, 2]&#10;Color: (0, 0, 0)\" style=\"width: 25px; height: 25px;background-color: rgb(0, 0, 0);\"></td><td title=\"Index: [2, 3]&#10;Color: (0, 0, 0)\" style=\"width: 25px; height: 25px;background-color: rgb(0, 0, 0);\"></td><td title=\"Index: [2, 4]&#10;Color: (0, 0, 0)\" style=\"width: 25px; height: 25px;background-color: rgb(0, 0, 0);\"></td><td title=\"Index: [2, 5]&#10;Color: (0, 0, 0)\" style=\"width: 25px; height: 25px;background-color: rgb(0, 0, 0);\"></td><td title=\"Index: [2, 6]&#10;Color: (0, 0, 0)\" style=\"width: 25px; height: 25px;background-color: rgb(0, 0, 0);\"></td></tr><tr><td title=\"Index: [3, 0]&#10;Color: (0, 128, 0)\" style=\"width: 25px; height: 25px;background-color: rgb(0, 128, 0);\"></td><td title=\"Index: [3, 1]&#10;Color: (0, 0, 0)\" style=\"width: 25px; height: 25px;background-color: rgb(0, 0, 0);\"></td><td title=\"Index: [3, 2]&#10;Color: (0, 0, 0)\" style=\"width: 25px; height: 25px;background-color: rgb(0, 0, 0);\"></td><td title=\"Index: [3, 3]&#10;Color: (0, 0, 0)\" style=\"width: 25px; height: 25px;background-color: rgb(0, 0, 0);\"></td><td title=\"Index: [3, 4]&#10;Color: (0, 0, 0)\" style=\"width: 25px; height: 25px;background-color: rgb(0, 0, 0);\"></td><td title=\"Index: [3, 5]&#10;Color: (0, 0, 0)\" style=\"width: 25px; height: 25px;background-color: rgb(0, 0, 0);\"></td><td title=\"Index: [3, 6]&#10;Color: (0, 0, 0)\" style=\"width: 25px; height: 25px;background-color: rgb(0, 0, 0);\"></td></tr><tr><td title=\"Index: [4, 0]&#10;Color: (255, 0, 0)\" style=\"width: 25px; height: 25px;background-color: rgb(255, 0, 0);\"></td><td title=\"Index: [4, 1]&#10;Color: (0, 0, 0)\" style=\"width: 25px; height: 25px;background-color: rgb(0, 0, 0);\"></td><td title=\"Index: [4, 2]&#10;Color: (0, 0, 0)\" style=\"width: 25px; height: 25px;background-color: rgb(0, 0, 0);\"></td><td title=\"Index: [4, 3]&#10;Color: (0, 0, 0)\" style=\"width: 25px; height: 25px;background-color: rgb(0, 0, 0);\"></td><td title=\"Index: [4, 4]&#10;Color: (0, 0, 0)\" style=\"width: 25px; height: 25px;background-color: rgb(0, 0, 0);\"></td><td title=\"Index: [4, 5]&#10;Color: (0, 0, 0)\" style=\"width: 25px; height: 25px;background-color: rgb(0, 0, 0);\"></td><td title=\"Index: [4, 6]&#10;Color: (0, 0, 0)\" style=\"width: 25px; height: 25px;background-color: rgb(0, 0, 0);\"></td></tr><tr><td title=\"Index: [5, 0]&#10;Color: (255, 0, 0)\" style=\"width: 25px; height: 25px;background-color: rgb(255, 0, 0);\"></td><td title=\"Index: [5, 1]&#10;Color: (0, 128, 0)\" style=\"width: 25px; height: 25px;background-color: rgb(0, 128, 0);\"></td><td title=\"Index: [5, 2]&#10;Color: (0, 0, 0)\" style=\"width: 25px; height: 25px;background-color: rgb(0, 0, 0);\"></td><td title=\"Index: [5, 3]&#10;Color: (0, 0, 0)\" style=\"width: 25px; height: 25px;background-color: rgb(0, 0, 0);\"></td><td title=\"Index: [5, 4]&#10;Color: (0, 0, 0)\" style=\"width: 25px; height: 25px;background-color: rgb(0, 0, 0);\"></td><td title=\"Index: [5, 5]&#10;Color: (0, 0, 0)\" style=\"width: 25px; height: 25px;background-color: rgb(0, 0, 0);\"></td><td title=\"Index: [5, 6]&#10;Color: (0, 128, 0)\" style=\"width: 25px; height: 25px;background-color: rgb(0, 128, 0);\"></td></tr></tbody></table>"
      ],
      "text/plain": [
       "<IPython.core.display.HTML object>"
      ]
     },
     "metadata": {},
     "output_type": "display_data"
    }
   ],
   "source": [
    "hazMovimiento(tablero,-1,1)\n",
    "dibujaTablero(tablero)"
   ]
  },
  {
   "cell_type": "code",
   "execution_count": 42,
   "metadata": {
    "collapsed": false
   },
   "outputs": [],
   "source": [
    "def daLaVictoria(tablero,tipoFicha, filJugada, colJugada):\n",
    "    \"\"\" Analiza si una ficha en las coords. fil y col da una \n",
    "    situacion de victoria, en cuyo caso devuelve una lista con las coordenadas de\n",
    "    las fichas que forman la linea victoriosa, en caso contrario devuelve false \"\"\"\n",
    "    \n",
    "    if not estaEnTablero(filJugada,colJugada):\n",
    "        return False\n",
    "    \n",
    "    for cdirection in [0,1,-1]:\n",
    "        for  fdirection in [0,1,-1]:\n",
    "            if cdirection == 0 and fdirection == 0:\n",
    "                continue\n",
    "            listaFichasGanadoras = [[filJugada, colJugada]]\n",
    "            c, f = colJugada, filJugada\n",
    "            c += cdirection # Primer paso en la direccion\n",
    "            f += fdirection          \n",
    "            while estaEnTablero(f,c) and tablero[f][c] == tipoFicha:\n",
    "                listaFichasGanadoras.append( [f,c])\n",
    "                c += cdirection\n",
    "                f += fdirection        \n",
    "            if len(listaFichasGanadoras) >= 4:\n",
    "                return listaFichasGanadoras\n",
    "    \n",
    "    return False"
   ]
  },
  {
   "cell_type": "code",
   "execution_count": 43,
   "metadata": {
    "collapsed": false
   },
   "outputs": [
    {
     "data": {
      "text/html": [
       "<style type=\"text/css\">table.blockgrid {border: none;} .blockgrid tr {border: none;} .blockgrid td {padding: 0px;} #blocks7b652e6d-5a19-4c73-b7c2-ed70bec7ad30 td {border: 1px solid white;}</style><table id=\"blocks7b652e6d-5a19-4c73-b7c2-ed70bec7ad30\" class=\"blockgrid\"><tbody><tr><td title=\"Index: [0, 0]&#10;Color: (255, 0, 0)\" style=\"width: 25px; height: 25px;background-color: rgb(255, 0, 0);\"></td><td title=\"Index: [0, 1]&#10;Color: (0, 0, 0)\" style=\"width: 25px; height: 25px;background-color: rgb(0, 0, 0);\"></td><td title=\"Index: [0, 2]&#10;Color: (0, 0, 0)\" style=\"width: 25px; height: 25px;background-color: rgb(0, 0, 0);\"></td><td title=\"Index: [0, 3]&#10;Color: (0, 0, 0)\" style=\"width: 25px; height: 25px;background-color: rgb(0, 0, 0);\"></td><td title=\"Index: [0, 4]&#10;Color: (0, 0, 0)\" style=\"width: 25px; height: 25px;background-color: rgb(0, 0, 0);\"></td><td title=\"Index: [0, 5]&#10;Color: (0, 0, 0)\" style=\"width: 25px; height: 25px;background-color: rgb(0, 0, 0);\"></td><td title=\"Index: [0, 6]&#10;Color: (0, 0, 0)\" style=\"width: 25px; height: 25px;background-color: rgb(0, 0, 0);\"></td></tr><tr><td title=\"Index: [1, 0]&#10;Color: (255, 0, 0)\" style=\"width: 25px; height: 25px;background-color: rgb(255, 0, 0);\"></td><td title=\"Index: [1, 1]&#10;Color: (0, 0, 0)\" style=\"width: 25px; height: 25px;background-color: rgb(0, 0, 0);\"></td><td title=\"Index: [1, 2]&#10;Color: (0, 0, 0)\" style=\"width: 25px; height: 25px;background-color: rgb(0, 0, 0);\"></td><td title=\"Index: [1, 3]&#10;Color: (0, 0, 0)\" style=\"width: 25px; height: 25px;background-color: rgb(0, 0, 0);\"></td><td title=\"Index: [1, 4]&#10;Color: (0, 0, 0)\" style=\"width: 25px; height: 25px;background-color: rgb(0, 0, 0);\"></td><td title=\"Index: [1, 5]&#10;Color: (0, 0, 0)\" style=\"width: 25px; height: 25px;background-color: rgb(0, 0, 0);\"></td><td title=\"Index: [1, 6]&#10;Color: (0, 0, 0)\" style=\"width: 25px; height: 25px;background-color: rgb(0, 0, 0);\"></td></tr><tr><td title=\"Index: [2, 0]&#10;Color: (0, 128, 0)\" style=\"width: 25px; height: 25px;background-color: rgb(0, 128, 0);\"></td><td title=\"Index: [2, 1]&#10;Color: (0, 0, 0)\" style=\"width: 25px; height: 25px;background-color: rgb(0, 0, 0);\"></td><td title=\"Index: [2, 2]&#10;Color: (255, 0, 0)\" style=\"width: 25px; height: 25px;background-color: rgb(255, 0, 0);\"></td><td title=\"Index: [2, 3]&#10;Color: (0, 0, 0)\" style=\"width: 25px; height: 25px;background-color: rgb(0, 0, 0);\"></td><td title=\"Index: [2, 4]&#10;Color: (0, 0, 0)\" style=\"width: 25px; height: 25px;background-color: rgb(0, 0, 0);\"></td><td title=\"Index: [2, 5]&#10;Color: (0, 0, 0)\" style=\"width: 25px; height: 25px;background-color: rgb(0, 0, 0);\"></td><td title=\"Index: [2, 6]&#10;Color: (0, 0, 0)\" style=\"width: 25px; height: 25px;background-color: rgb(0, 0, 0);\"></td></tr><tr><td title=\"Index: [3, 0]&#10;Color: (0, 128, 0)\" style=\"width: 25px; height: 25px;background-color: rgb(0, 128, 0);\"></td><td title=\"Index: [3, 1]&#10;Color: (0, 0, 0)\" style=\"width: 25px; height: 25px;background-color: rgb(0, 0, 0);\"></td><td title=\"Index: [3, 2]&#10;Color: (255, 0, 0)\" style=\"width: 25px; height: 25px;background-color: rgb(255, 0, 0);\"></td><td title=\"Index: [3, 3]&#10;Color: (0, 0, 0)\" style=\"width: 25px; height: 25px;background-color: rgb(0, 0, 0);\"></td><td title=\"Index: [3, 4]&#10;Color: (0, 0, 0)\" style=\"width: 25px; height: 25px;background-color: rgb(0, 0, 0);\"></td><td title=\"Index: [3, 5]&#10;Color: (0, 0, 0)\" style=\"width: 25px; height: 25px;background-color: rgb(0, 0, 0);\"></td><td title=\"Index: [3, 6]&#10;Color: (0, 0, 0)\" style=\"width: 25px; height: 25px;background-color: rgb(0, 0, 0);\"></td></tr><tr><td title=\"Index: [4, 0]&#10;Color: (255, 0, 0)\" style=\"width: 25px; height: 25px;background-color: rgb(255, 0, 0);\"></td><td title=\"Index: [4, 1]&#10;Color: (0, 0, 0)\" style=\"width: 25px; height: 25px;background-color: rgb(0, 0, 0);\"></td><td title=\"Index: [4, 2]&#10;Color: (255, 0, 0)\" style=\"width: 25px; height: 25px;background-color: rgb(255, 0, 0);\"></td><td title=\"Index: [4, 3]&#10;Color: (0, 0, 0)\" style=\"width: 25px; height: 25px;background-color: rgb(0, 0, 0);\"></td><td title=\"Index: [4, 4]&#10;Color: (0, 0, 0)\" style=\"width: 25px; height: 25px;background-color: rgb(0, 0, 0);\"></td><td title=\"Index: [4, 5]&#10;Color: (0, 0, 0)\" style=\"width: 25px; height: 25px;background-color: rgb(0, 0, 0);\"></td><td title=\"Index: [4, 6]&#10;Color: (0, 0, 0)\" style=\"width: 25px; height: 25px;background-color: rgb(0, 0, 0);\"></td></tr><tr><td title=\"Index: [5, 0]&#10;Color: (255, 0, 0)\" style=\"width: 25px; height: 25px;background-color: rgb(255, 0, 0);\"></td><td title=\"Index: [5, 1]&#10;Color: (0, 128, 0)\" style=\"width: 25px; height: 25px;background-color: rgb(0, 128, 0);\"></td><td title=\"Index: [5, 2]&#10;Color: (255, 0, 0)\" style=\"width: 25px; height: 25px;background-color: rgb(255, 0, 0);\"></td><td title=\"Index: [5, 3]&#10;Color: (0, 0, 0)\" style=\"width: 25px; height: 25px;background-color: rgb(0, 0, 0);\"></td><td title=\"Index: [5, 4]&#10;Color: (0, 0, 0)\" style=\"width: 25px; height: 25px;background-color: rgb(0, 0, 0);\"></td><td title=\"Index: [5, 5]&#10;Color: (0, 0, 0)\" style=\"width: 25px; height: 25px;background-color: rgb(0, 0, 0);\"></td><td title=\"Index: [5, 6]&#10;Color: (0, 128, 0)\" style=\"width: 25px; height: 25px;background-color: rgb(0, 128, 0);\"></td></tr></tbody></table>"
      ],
      "text/plain": [
       "<IPython.core.display.HTML object>"
      ]
     },
     "metadata": {},
     "output_type": "display_data"
    },
    {
     "name": "stdout",
     "output_type": "stream",
     "text": [
      "4 2\n",
      "5 2\n",
      "6 2\n"
     ]
    },
    {
     "data": {
      "text/plain": [
       "[[2, 2], [3, 2], [4, 2], [5, 2]]"
      ]
     },
     "execution_count": 43,
     "metadata": {},
     "output_type": "execute_result"
    }
   ],
   "source": [
    "# Testeo de la funcion daLaVictoria\n",
    "tablero[5][2] = 1\n",
    "tablero[4][2] = 1\n",
    "tablero[3][2] = 1\n",
    "tablero[2][2] = 1\n",
    "dibujaTablero(tablero)\n",
    "daLaVictoria(tablero, 1, 2,2)"
   ]
  },
  {
   "cell_type": "code",
   "execution_count": null,
   "metadata": {
    "collapsed": true
   },
   "outputs": [],
   "source": []
  }
 ],
 "metadata": {
  "kernelspec": {
   "display_name": "Python 3",
   "language": "python",
   "name": "python3"
  },
  "language_info": {
   "codemirror_mode": {
    "name": "ipython",
    "version": 3
   },
   "file_extension": ".py",
   "mimetype": "text/x-python",
   "name": "python",
   "nbconvert_exporter": "python",
   "pygments_lexer": "ipython3",
   "version": "3.4.3"
  }
 },
 "nbformat": 4,
 "nbformat_minor": 0
}
